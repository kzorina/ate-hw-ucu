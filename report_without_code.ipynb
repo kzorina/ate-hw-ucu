{
 "cells": [
  {
   "cell_type": "markdown",
   "metadata": {},
   "source": [
    "# Report "
   ]
  },
  {
   "cell_type": "markdown",
   "metadata": {},
   "source": [
    "## Stage 1. Reading from PDF and cleaning"
   ]
  },
  {
   "cell_type": "markdown",
   "metadata": {},
   "source": [
    "For this stage I used ```read_to_clean``` function from ```my_suite_helpers.pdf_reader``` file\n",
    "\n",
    "#### Input\n",
    "PDF files from ```data/time```\n",
    "#### Output\n",
    ".txt files in ```data/clean_txt```"
   ]
  },
  {
   "cell_type": "markdown",
   "metadata": {},
   "source": [
    "All results are saved to clean_txt folder.\n",
    "##### Elapsed time: 465 seconds"
   ]
  },
  {
   "cell_type": "markdown",
   "metadata": {},
   "source": [
    "## Stage 2. Generating dataset"
   ]
  },
  {
   "cell_type": "markdown",
   "metadata": {},
   "source": [
    "For this stage I used ```dataset_genreator``` function from ```my_suite_helpers.utils``` file\n",
    "\n",
    "#### Input\n",
    "order (acceptable values:  'chrono', 'rev-chrono', 'bi-dir', 'random')\n",
    "\n",
    "num_input (incremented size parameter)\n",
    "\n",
    "#### Output\n",
    "cleaned .txt files in ```data/clean_txt```"
   ]
  },
  {
   "cell_type": "markdown",
   "metadata": {},
   "source": [
    "For example, for incremented size 5 here are files that will go into datase:\n",
    "###### Getting 5 docs in chrono order\n",
    "File TIME-1994-1(1)-paper-1.txt\n",
    "\n",
    "File TIME-1994-1(1)-paper-10.txt\n",
    "\n",
    "File TIME-1994-1(1)-paper-11.txt\n",
    "\n",
    "File TIME-1994-1(1)-paper-13.txt\n",
    "\n",
    "File TIME-1994-1(1)-paper-14.txt\n",
    "\n",
    "\n",
    "###### Getting 5 docs in rev-chrono order\n",
    "File TIME-2013-1(1)-paper-14.txt\n",
    "\n",
    "File TIME-2013-1(1)-paper-15.txt\n",
    "\n",
    "File TIME-2013-1(1)-paper-16.txt\n",
    "\n",
    "File TIME-2013-1(1)-paper-17.txt\n",
    "\n",
    "File TIME-2013-1(1)-paper-18.txt\n",
    "\n",
    "\n",
    "###### Getting 5 docs in bi-dir order\n",
    "File TIME-1994-1(1)-paper-1.txt\n",
    "\n",
    "File TIME-1994-1(1)-paper-10.txt\n",
    "\n",
    "File TIME-2013-1(1)-paper-16.txt\n",
    "\n",
    "File TIME-2013-1(1)-paper-17.txt\n",
    "\n",
    "File TIME-2013-1(1)-paper-18.txt\n",
    "\n",
    "\n",
    "###### Getting 5 docs in random order\n",
    "File TIME-2004-1(1)-paper-03.txt\n",
    "\n",
    "File TIME-2000-1(1)-paper-15.txt\n",
    "\n",
    "File TIME-1994-1(1)-paper-11.txt\n",
    "\n",
    "File TIME-2011-1(1)-paper-01.txt\n",
    "\n",
    "File TIME-1996-1(1)-paper-11.txt"
   ]
  },
  {
   "cell_type": "markdown",
   "metadata": {},
   "source": [
    "##### Elapsed time: 4.08906234897 seconds for 424 docs in chrono order"
   ]
  },
  {
   "cell_type": "markdown",
   "metadata": {},
   "source": [
    "## Stage 3. ATE Method"
   ]
  },
  {
   "cell_type": "markdown",
   "metadata": {},
   "source": [
    "I used <b>TF</b> for terms extraction."
   ]
  },
  {
   "cell_type": "markdown",
   "metadata": {},
   "source": [
    "For this stage I used ```tf``` function from ```my_suite_helpers.ATE_method``` file\n",
    "\n",
    "For precission measures I used ```precision```, ```recall```, ```f_measure``` from ```my_suite_helpers.utils```\n",
    "\n",
    "Pipeline for comparison present in ```ate_suite_Zorina.py```\n",
    "\n",
    "#### Input\n",
    "terms extracted with provided ``` term_extractor.extract_terms``` function\n",
    "#### Output\n",
    "Normalized tf (saved to variable)\n",
    "###### Example of output\n",
    "  num                      term\n",
    "  \n",
    "1.000000                       time points\n",
    "\n",
    "0.861111                          temporal features\n",
    "\n",
    "0.847222                                  time line\n",
    "\n",
    "0.819444                             time intervals\n",
    "\n",
    "0.777778                    artificial intelligence\n",
    "\n",
    "0.763889                               semantic web\n",
    "\n"
   ]
  },
  {
   "cell_type": "markdown",
   "metadata": {},
   "source": [
    "#### Compare on smaller file\n",
    "Input file - ```\"hands-on/time-onto-paper/TimeOnto-Paper.txt\"```\n",
    "\n",
    "Golden Standard - ```\"hands-on/time-onto-paper/MyTimeOnto-Paper-manually-extracted-terms.csv\"```"
   ]
  },
  {
   "cell_type": "markdown",
   "metadata": {},
   "source": [
    "#### Results for my ATE\n",
    "Precision = 0.262355848435\n",
    "\n",
    "Recall = 0.00141646839074\n",
    "\n",
    "F measure = 0.00281772379229\n",
    "\n",
    "##### Elapsed time: 0.165914150476 s\n",
    "#### Results for reference implementation (C-value)\n",
    "Precision = 0.262355848435\n",
    "\n",
    "Recall = 0.00141646839074\n",
    "\n",
    "F measure = 0.00281772379229\n",
    "\n",
    "##### Elapsed time: 822.024772244 s"
   ]
  },
  {
   "cell_type": "markdown",
   "metadata": {},
   "source": [
    "## Stage 4. Term grouping"
   ]
  },
  {
   "cell_type": "markdown",
   "metadata": {},
   "source": [
    "For this stage I used ```term_grouping``` function from ```my_suite_helpers.term_grouping``` file\n",
    "\n",
    "#### Input\n",
    "TF from previous step\n",
    "#### Output\n",
    "grouped terms  (saved to variable)"
   ]
  },
  {
   "cell_type": "markdown",
   "metadata": {},
   "source": [
    "Term length before grouping = 803\n",
    "\n",
    "Term length after grouping = 520\n",
    "###### Elapsed time: 113.175545074 s"
   ]
  },
  {
   "cell_type": "markdown",
   "metadata": {},
   "source": [
    "## Stage 5. THD Pipeline"
   ]
  },
  {
   "cell_type": "markdown",
   "metadata": {},
   "source": [
    "For this stage I used ```thd``` function from ```my_suite_helpers.thd``` file and\n",
    "\n",
    "```dataset_genreator``` function from ```my_suite_helpers.utils``` file\n",
    "\n",
    "Pipeline present in ```ate_suite_Zorina.py```\n",
    "\n",
    "#### Input\n",
    "Range for which perform thd\n",
    "#### Output\n",
    "thd, thdr, eps for each inc size  (saved to lists per each order)"
   ]
  },
  {
   "cell_type": "markdown",
   "metadata": {},
   "source": [
    "###### Results look weird, but I did not find an error..."
   ]
  },
  {
   "cell_type": "code",
   "execution_count": 81,
   "metadata": {},
   "outputs": [
    {
     "data": {
      "image/png": "[encoded data removed]",
      "text/plain": [
       "<matplotlib.figure.Figure at 0x11995208>"
      ]
     },
     "metadata": {},
     "output_type": "display_data"
    }
   ],
   "source": [
    "plot_thd_thdr(thd_list, thdr_list, eps_list, order)"
   ]
  },
  {
   "cell_type": "code",
   "execution_count": null,
   "metadata": {},
   "outputs": [],
   "source": [
    "plot_thd_thdr(thd_list, thdr_list, eps_list, order)"
   ]
  },
  {
   "cell_type": "markdown",
   "metadata": {},
   "source": [
    "## Stage 6. Taxonomy generator"
   ]
  },
  {
   "cell_type": "markdown",
   "metadata": {},
   "source": [
    "Performed for one random taken file from previously cleaned.\n",
    "\n",
    "Pipeline present in ```ate_suite_Zorina.py```"
   ]
  },
  {
   "cell_type": "markdown",
   "metadata": {},
   "source": [
    "All results are saved to output.txt folder.\n",
    "##### Elapsed time: 174.118080098 s"
   ]
  },
  {
   "cell_type": "markdown",
   "metadata": {},
   "source": [
    "### Sample output:\n",
    "###### Please think about merging next terms as they are pretty similar\n",
    "basic time units with ['basic time unit']\n",
    "\n",
    "time unit with ['time units']\n",
    "\n",
    "information systems with ['informatik systeme']\n",
    "\n",
    "overall workow execution with ['overall workow duration']\n",
    "\n",
    "\n",
    "###### Please think about combining somehow next terms\n",
    "process management with ['process reengineering purposes', 'time management tries', 'process priorities']\n",
    "\n",
    "time histogram with ['time violations', 'time problems', 'time property', 'time vi olations', 'time restrictions', 'time unit', 'time line', 'time model', 'time units', 'timely manner', 'timed graph', 'time interval', 'time value', 'time constraint violations', 'time management tries', 'time in workow systems', 'time management problems']\n",
    "\n",
    "latest allowed end blae with ['latest allowed start time']\n",
    "\n",
    "time interval with ['time value', 'valid time interval', 'time constraint violations', 'time management tries', 'time in workow systems', 'time management problems']\n",
    "\n",
    "green orange with ['cepe ', 'green everything']"
   ]
  }
 ],
 "metadata": {
  "kernelspec": {
   "display_name": "Python 2",
   "language": "python",
   "name": "python2"
  },
  "language_info": {
   "codemirror_mode": {
    "name": "ipython",
    "version": 2
   },
   "file_extension": ".py",
   "mimetype": "text/x-python",
   "name": "python",
   "nbconvert_exporter": "python",
   "pygments_lexer": "ipython2",
   "version": "2.7.14"
  }
 },
 "nbformat": 4,
 "nbformat_minor": 2
}
